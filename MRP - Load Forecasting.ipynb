{
 "cells": [
  {
   "cell_type": "markdown",
   "metadata": {},
   "source": [
    "**MRP - Load Prediction using Recurrent Neural Networks for Ontario Electricity Market**\n",
    "\n",
    "Emmalie Tomini\n",
    "\n",
    "Ryerson University\n",
    "\n",
    "The following program uses a recurrent neural network structure to test which weather variables are most important for creating load forecast predictions 24 hours in to the future for the Ontario Electricity Market."
   ]
  },
  {
   "cell_type": "code",
   "execution_count": 69,
   "metadata": {},
   "outputs": [
    {
     "data": {
      "text/plain": [
       "'1.8.0'"
      ]
     },
     "execution_count": 69,
     "metadata": {},
     "output_type": "execute_result"
    }
   ],
   "source": [
    "# Import Libraries\n",
    "import sys\n",
    "import tensorflow as tf\n",
    "import pandas as pd\n",
    "import numpy as np\n",
    "import os\n",
    "import matplotlib\n",
    "import matplotlib.pyplot as plt\n",
    "from sklearn.preprocessing import MinMaxScaler\n",
    "import random\n",
    "%matplotlib inline\n",
    "import shutil \n",
    "from keras.models import Sequential\n",
    "from keras.layers import Input, Dense, GRU, Embedding\n",
    "from keras.optimizers import Adam\n",
    "from keras.callbacks import EarlyStopping, ModelCheckpoint, TensorBoard, ReduceLROnPlateau\n",
    "import tensorflow.contrib.learn as tflearn\n",
    "import tensorflow.contrib.layers as tflayers\n",
    "from tensorflow.contrib.learn.python.learn import learn_runner\n",
    "import tensorflow.contrib.metrics as metrics\n",
    "import tensorflow.contrib.rnn as rnn\n",
    "from tensorflow.python.keras.initializers import RandomUniform\n",
    "import h5py\n",
    "tf.__version__"
   ]
  },
  {
   "cell_type": "markdown",
   "metadata": {},
   "source": [
    "Import the dataset \"2008-2017.xlsx\", made up of seasonal and weather data collected from Toronto Buttonville Airport weather station.  This dataset contains several weather variables, some of which are more interesting than others.  We will train the RNN on various combinations of features to determine which are necessary to build the most accurate model."
   ]
  },
  {
   "cell_type": "code",
   "execution_count": 47,
   "metadata": {},
   "outputs": [
    {
     "name": "stdout",
     "output_type": "stream",
     "text": [
      "        Date  Year  Month  Day  Day365  Hour  Total Market Demand  \\\n",
      "0 2008-01-01  2008      1    1       1     1                16747   \n",
      "1 2008-01-01  2008      1    1       1     2                16047   \n",
      "2 2008-01-01  2008      1    1       1     3                15988   \n",
      "3 2008-01-01  2008      1    1       1     4                15464   \n",
      "4 2008-01-01  2008      1    1       1     5                15236   \n",
      "\n",
      "   Ontario Demand  Temp (°C)  Dew Point Temp (°C)  Rel Hum (%)  \\\n",
      "0           15181       -2.9                 -6.1         79.0   \n",
      "1           14610       -2.5                 -4.2         88.0   \n",
      "2           14151       -1.7                 -3.0         91.0   \n",
      "3           13926       -0.9                 -2.2         91.0   \n",
      "4           13670       -0.6                 -2.2         89.0   \n",
      "\n",
      "   Wind Dir (10s deg)  Wind Spd (km/h)  Visibility (km)  Stn Press (kPa)  \\\n",
      "0                 5.0              6.0              2.8            99.04   \n",
      "1                 7.0              9.0              1.2            98.95   \n",
      "2                 8.0             15.0              1.2            98.80   \n",
      "3                 8.0             15.0              2.0            98.65   \n",
      "4                 8.0             13.0              2.0            98.42   \n",
      "\n",
      "   Hmdx  Wind Chill Weather  Weekday  \n",
      "0   NaN        -5.0    Snow        3  \n",
      "1   NaN        -6.0    Snow        3  \n",
      "2   NaN        -7.0    Snow        3  \n",
      "3   NaN        -6.0    Snow        3  \n",
      "4   NaN        -5.0    Snow        3  \n"
     ]
    }
   ],
   "source": [
    "# import load data\n",
    "load_data = \"C:/Users/emmat_000/Desktop/School/Data Science/MRP/2008-2017Load.xlsx\"\n",
    "sheet = \"2008-2017Load\"\n",
    "df = pd.read_excel(io=load_data, sheet_name=sheet)"
   ]
  },
  {
   "cell_type": "markdown",
   "metadata": {},
   "source": [
    "Below, we plot \"Total Market Demand\" over the entire dataset."
   ]
  },
  {
   "cell_type": "code",
   "execution_count": 48,
   "metadata": {
    "scrolled": true
   },
   "outputs": [
    {
     "data": {
      "text/plain": [
       "<matplotlib.axes._subplots.AxesSubplot at 0x1cb5e8796d8>"
      ]
     },
     "execution_count": 48,
     "metadata": {},
     "output_type": "execute_result"
    },
    {
     "data": {
      "image/png": "[encoded data removed]",
      "text/plain": [
       "<Figure size 432x288 with 1 Axes>"
      ]
     },
     "metadata": {},
     "output_type": "display_data"
    }
   ],
   "source": [
    "df[['Total Market Demand']].plot(c='b', title='Total Market Demand (2008-2017)')"
   ]
  },
  {
   "cell_type": "markdown",
   "metadata": {},
   "source": [
    "The x_df dataframe contains our input feature variables.  These include the year, the day, the hour, what day of the week it is, the temperature in degrees celcius, the relative humidity and the dew point temperature.  Select the corresponding features for the appropriate model."
   ]
  },
  {
   "cell_type": "code",
   "execution_count": 49,
   "metadata": {},
   "outputs": [],
   "source": [
    "df.fillna(0, inplace=True)\n",
    "x_df = df[['Year', 'Day365', 'Hour', 'Weekday', 'Temp (°C)', 'Rel Hum (%)', 'Dew Point Temp (°C)']]\n",
    "y_df = df[['Total Market Demand']]"
   ]
  },
  {
   "cell_type": "markdown",
   "metadata": {},
   "source": [
    "Our data is constructed in hourly intervals.  Our initial experiment will be to predict the energy demand 24 hours in to the future.  If we want to predict even further in to the future, the day and time step variables are set up to allow such alteration for future experiments.  However, for the time being we will predict electricity load 24 hours in to the future by shifting our output feature, total market demand, 24 steps back."
   ]
  },
  {
   "cell_type": "code",
   "execution_count": 1,
   "metadata": {},
   "outputs": [],
   "source": [
    "shift_days = 1\n",
    "shift_steps = shift_days*24  # Number of hours"
   ]
  },
  {
   "cell_type": "markdown",
   "metadata": {},
   "source": [
    "Shift our target variable.  We want to predict the future so we shift the y variables up."
   ]
  },
  {
   "cell_type": "code",
   "execution_count": 3,
   "metadata": {},
   "outputs": [],
   "source": [
    "y_df = y_df.shift(-shift_steps)"
   ]
  },
  {
   "cell_type": "markdown",
   "metadata": {},
   "source": [
    "From the previous literature, scalig the variables between 0 and 1 was found t0 increase convergence. This method will be applied the the data using the MinMaxScaler function, default is already 0-1"
   ]
  },
  {
   "cell_type": "code",
   "execution_count": 55,
   "metadata": {},
   "outputs": [
    {
     "data": {
      "text/plain": [
       "array([[2017. ,  364. ,   19. ,    7. ,  -13. ,   67. ,   20. ],\n",
       "       [2017. ,  364. ,   20. ,    7. ,  -14.6,   69. ,   19. ],\n",
       "       [2017. ,  364. ,   21. ,    7. ,  -15.6,   67. ,   26. ],\n",
       "       [2017. ,  364. ,   22. ,    7. ,  -17.1,   68. ,   21. ],\n",
       "       [2017. ,  364. ,   23. ,    7. ,  -18. ,   69. ,   17. ],\n",
       "       [2017. ,  364. ,   24. ,    7. ,  -18.9,   69. ,   17. ]])"
      ]
     },
     "execution_count": 55,
     "metadata": {},
     "output_type": "execute_result"
    }
   ],
   "source": [
    "x_df[len(x_df)-6:]"
   ]
  },
  {
   "cell_type": "code",
   "execution_count": 56,
   "metadata": {},
   "outputs": [],
   "source": [
    "# save an unaltered copy of y_df\n",
    "y_original = y_df"
   ]
  },
  {
   "cell_type": "code",
   "execution_count": 57,
   "metadata": {},
   "outputs": [
    {
     "data": {
      "text/plain": [
       "array([[0.31045554],\n",
       "       [0.30888054],\n",
       "       [0.30439787],\n",
       "       ...,\n",
       "       [0.6120063 ],\n",
       "       [0.5571844 ],\n",
       "       [0.52102011]])"
      ]
     },
     "execution_count": 57,
     "metadata": {},
     "output_type": "execute_result"
    }
   ],
   "source": [
    "# Scale x_df\n",
    "scale_x = MinMaxScaler(copy=False)\n",
    "scale_x.fit(x_df)\n",
    "x_df = scale_x.transform(x_df)\n",
    "\n",
    "# Scale y_df\n",
    "scale_y = MinMaxScaler(copy=False)\n",
    "scale_y.fit(y_df)\n",
    "y_df = scale_y.transform(y_df)"
   ]
  },
  {
   "cell_type": "markdown",
   "metadata": {},
   "source": [
    "Seperate dataset in to training and testing"
   ]
  },
  {
   "cell_type": "code",
   "execution_count": 85,
   "metadata": {},
   "outputs": [],
   "source": [
    "train_len = int(0.9*(len(x_df)))\n",
    "\n",
    "x_train = x_df[0:train_len]\n",
    "y_train = y_df[0:train_len]\n",
    "y_train_o = y_original[0:train_len] # not rescaled\n",
    " \n",
    "x_test = x_df[train_len:]\n",
    "y_test = y_df[train_len:]\n",
    "y_test_o = y_original[train_len:] # not rescaled"
   ]
  },
  {
   "cell_type": "markdown",
   "metadata": {},
   "source": [
    "Initialize hyper parameters: s_length = sequence length fed to the model for training, b_size = number of sequences, num_f = number of input features"
   ]
  },
  {
   "cell_type": "code",
   "execution_count": 60,
   "metadata": {},
   "outputs": [],
   "source": [
    "# Sequrnce length of approximatly 2 months , 8 weeks\n",
    "s_length = 24*7*8  \n",
    "\n",
    "# Batch size needs to be adjusted in order to acheive best CPU operation\n",
    "# this value can be adjusted later during testing and experiments\n",
    "b_size = 150\n",
    "\n",
    "# During experiments, we may decide to add or remove features to increase\n",
    "# accuracy.  We will specify the number of x features we are using for each\n",
    "# experiment and this will be passed as an argument to the batch generator\n",
    "num_f = 7"
   ]
  },
  {
   "cell_type": "markdown",
   "metadata": {},
   "source": [
    "Next, we generate atches of sequences, rather than feeding the entire training set sequence in to the algorithm.  Here we can make use of Keras functions to ease the process."
   ]
  },
  {
   "cell_type": "code",
   "execution_count": 61,
   "metadata": {},
   "outputs": [],
   "source": [
    "def batchGenerator(b_size, s_length):\n",
    "    \n",
    "    while True:\n",
    "        \n",
    "            x_dim = (b_size, s_length, num_f)\n",
    "            x_batch = np.zeros(x_dim)\n",
    "            \n",
    "            y_dim = (b_size, s_length, 1)\n",
    "            y_batch = np.zeros(y_dim)\n",
    "            \n",
    "            for i in range(b_size):\n",
    "                j = np.random.randint(train_len - s_length)\n",
    "                x_batch[i] = x_train[j:(j+s_length)]\n",
    "                y_batch[i] = y_train[j:(j+s_length)]\n",
    "            yield(x_batch, y_batch)"
   ]
  },
  {
   "cell_type": "markdown",
   "metadata": {},
   "source": [
    "We call our bath generator and create **150** batches, each containing a sequence of 1344 observations.  We verify the structure of our batches by printing their sizes."
   ]
  },
  {
   "cell_type": "code",
   "execution_count": 63,
   "metadata": {},
   "outputs": [
    {
     "name": "stdout",
     "output_type": "stream",
     "text": [
      "(150, 1344, 7)\n",
      "(150, 1344, 1)\n"
     ]
    }
   ],
   "source": [
    "gen_batches = batchGenerator(b_size, s_length)\n",
    "x_batch, y_batch = next(gen_batches)\n",
    "print(x_batch.shape)\n",
    "print(y_batch.shape)"
   ]
  },
  {
   "cell_type": "code",
   "execution_count": 64,
   "metadata": {},
   "outputs": [
    {
     "data": {
      "text/plain": [
       "[<matplotlib.lines.Line2D at 0x1cb5e8ab710>]"
      ]
     },
     "execution_count": 64,
     "metadata": {},
     "output_type": "execute_result"
    },
    {
     "data": {
      "image/png": "[encoded data removed]",
      "text/plain": [
       "<Figure size 432x288 with 1 Axes>"
      ]
     },
     "metadata": {},
     "output_type": "display_data"
    }
   ],
   "source": [
    "# plot one of the output sequences to check\n",
    "plt.plot(y_batch[6])"
   ]
  },
  {
   "cell_type": "markdown",
   "metadata": {},
   "source": [
    "Now, we are prepared to implement our RNN model"
   ]
  },
  {
   "cell_type": "code",
   "execution_count": 65,
   "metadata": {},
   "outputs": [],
   "source": [
    "# During testing, the optimal number of hidden units can be adjusted\n",
    "model = Sequential()\n",
    "model.add(GRU(units=200,\n",
    "              return_sequences=True,\n",
    "              input_shape=(None, num_f,)))\n",
    "model.add(Dense(1, activation='sigmoid', kernel_initializer=RandomUniform(-0.01,0.01)))\n"
   ]
  },
  {
   "cell_type": "markdown",
   "metadata": {},
   "source": [
    "Compile Time!!!!"
   ]
  },
  {
   "cell_type": "code",
   "execution_count": 70,
   "metadata": {},
   "outputs": [],
   "source": [
    "# define optimization function\n",
    "adam_opt = Adam(lr=0.001, beta_1=0.85, beta_2=0.95, epsilon=None, decay=0.0, amsgrad=False)\n",
    "model.compile(loss=\"mse\", optimizer=adam_opt, metrics=['mae', 'acc'])\n"
   ]
  },
  {
   "cell_type": "code",
   "execution_count": 71,
   "metadata": {
    "scrolled": true
   },
   "outputs": [
    {
     "name": "stdout",
     "output_type": "stream",
     "text": [
      "_________________________________________________________________\n",
      "Layer (type)                 Output Shape              Param #   \n",
      "=================================================================\n",
      "gru_2 (GRU)                  (None, None, 200)         124800    \n",
      "_________________________________________________________________\n",
      "dense_2 (Dense)              (None, None, 1)           201       \n",
      "=================================================================\n",
      "Total params: 125,001\n",
      "Trainable params: 125,001\n",
      "Non-trainable params: 0\n",
      "_________________________________________________________________\n"
     ]
    }
   ],
   "source": [
    "model.summary()"
   ]
  },
  {
   "cell_type": "code",
   "execution_count": 72,
   "metadata": {},
   "outputs": [
    {
     "data": {
      "text/plain": [
       "(array([[[0.88888889, 1.        , 0.39130435, ..., 0.40345369,\n",
       "          0.77      , 0.24590164],\n",
       "         [0.88888889, 1.        , 0.43478261, ..., 0.41758242,\n",
       "          0.72      , 0.21311475],\n",
       "         [0.88888889, 1.        , 0.47826087, ..., 0.44740973,\n",
       "          0.64      , 0.31147541],\n",
       "         ...,\n",
       "         [1.        , 0.99452055, 0.91304348, ..., 0.15070644,\n",
       "          0.68      , 0.3442623 ],\n",
       "         [1.        , 0.99452055, 0.95652174, ..., 0.13657771,\n",
       "          0.69      , 0.27868852],\n",
       "         [1.        , 0.99452055, 1.        , ..., 0.12244898,\n",
       "          0.69      , 0.27868852]]]), array([[[0.30524594],\n",
       "         [0.31118246],\n",
       "         [0.31172765],\n",
       "         ...,\n",
       "         [0.6120063 ],\n",
       "         [0.5571844 ],\n",
       "         [0.52102011]]]))"
      ]
     },
     "execution_count": 72,
     "metadata": {},
     "output_type": "execute_result"
    }
   ],
   "source": [
    "valid_data = (np.expand_dims(x_test, axis=0),np.expand_dims(y_test, axis=0))"
   ]
  },
  {
   "cell_type": "markdown",
   "metadata": {},
   "source": [
    "We define callback functions to define checkpoints and log progress.\n",
    "\n",
    "The following callback saves the model after each epoc."
   ]
  },
  {
   "cell_type": "code",
   "execution_count": 73,
   "metadata": {},
   "outputs": [],
   "source": [
    "checkpoint_callback = ModelCheckpoint('model_temp_dew_hum.h5', monitor='val_loss', verbose=0, save_best_only=True, save_weights_only=False, period=1)"
   ]
  },
  {
   "cell_type": "markdown",
   "metadata": {},
   "source": [
    "When the performence worsens, the following callback will implement early stopping"
   ]
  },
  {
   "cell_type": "code",
   "execution_count": 74,
   "metadata": {},
   "outputs": [],
   "source": [
    "earlyStopping_callback = EarlyStopping(monitor='val_loss', patience=3)\n"
   ]
  },
  {
   "cell_type": "markdown",
   "metadata": {},
   "source": [
    "Write to tensorboard callback"
   ]
  },
  {
   "cell_type": "code",
   "execution_count": 75,
   "metadata": {},
   "outputs": [],
   "source": [
    "tensorboard_callback  = TensorBoard(log_dir='./mrp_logs/',\n",
    "                                   histogram_freq=0,\n",
    "                                   write_graph=False)"
   ]
  },
  {
   "cell_type": "markdown",
   "metadata": {},
   "source": [
    "Models often benefit from reducing the learning rate once learning stagnates.  The following callback reduces the learning rate if loss hasnot improved in the last epoch by multiplying  it by a factor of 2."
   ]
  },
  {
   "cell_type": "code",
   "execution_count": 76,
   "metadata": {},
   "outputs": [],
   "source": [
    "reduceLR_callback = ReduceLROnPlateau(monitor='val_loss',\n",
    "                                       factor=0.5,\n",
    "                                       min_lr=0.0001,\n",
    "                                       patience=0)"
   ]
  },
  {
   "cell_type": "code",
   "execution_count": 77,
   "metadata": {},
   "outputs": [],
   "source": [
    "callbacks = [checkpoint_callback,\n",
    "             earlyStopping_callback,\n",
    "             tensorboard_callback,\n",
    "             reduceLR_callback]"
   ]
  },
  {
   "cell_type": "markdown",
   "metadata": {},
   "source": [
    "Train the model based on the appropriately selected input features.\n",
    "\n",
    "If you do not intent on training the model, skip to the next line and load the weights from a previously trained model."
   ]
  },
  {
   "cell_type": "code",
   "execution_count": 78,
   "metadata": {
    "scrolled": true
   },
   "outputs": [
    {
     "name": "stdout",
     "output_type": "stream",
     "text": [
      "Epoch 1/20\n",
      "100/100 [==============================] - 2138s 21s/step - loss: 0.0172 - mean_absolute_error: 0.1031 - acc: 1.8304e-05 - val_loss: 0.0102 - val_mean_absolute_error: 0.0819 - val_acc: 0.0000e+00\n",
      "Epoch 2/20\n",
      "100/100 [==============================] - 2177s 22s/step - loss: 0.0106 - mean_absolute_error: 0.0803 - acc: 2.4008e-05 - val_loss: 0.0062 - val_mean_absolute_error: 0.0636 - val_acc: 0.0000e+00\n",
      "Epoch 3/20\n",
      "100/100 [==============================] - 2314s 23s/step - loss: 0.0079 - mean_absolute_error: 0.0690 - acc: 2.5843e-05 - val_loss: 0.0067 - val_mean_absolute_error: 0.0646 - val_acc: 0.0000e+00\n",
      "Epoch 4/20\n",
      "100/100 [==============================] - 2499s 25s/step - loss: 0.0070 - mean_absolute_error: 0.0651 - acc: 2.3413e-05 - val_loss: 0.0054 - val_mean_absolute_error: 0.0582 - val_acc: 0.0000e+00\n",
      "Epoch 5/20\n",
      "100/100 [==============================] - 2596s 26s/step - loss: 0.0070 - mean_absolute_error: 0.0648 - acc: 2.5347e-05 - val_loss: 0.0053 - val_mean_absolute_error: 0.0577 - val_acc: 0.0000e+00\n",
      "Epoch 6/20\n",
      "100/100 [==============================] - 2625s 26s/step - loss: 0.0067 - mean_absolute_error: 0.0633 - acc: 2.6141e-05 - val_loss: 0.0046 - val_mean_absolute_error: 0.0536 - val_acc: 0.0000e+00\n",
      "Epoch 7/20\n",
      "100/100 [==============================] - 32120s 321s/step - loss: 0.0065 - mean_absolute_error: 0.0625 - acc: 2.5694e-05 - val_loss: 0.0059 - val_mean_absolute_error: 0.0611 - val_acc: 0.0000e+00\n",
      "Epoch 8/20\n",
      "100/100 [==============================] - 2600s 26s/step - loss: 0.0061 - mean_absolute_error: 0.0605 - acc: 2.6835e-05 - val_loss: 0.0059 - val_mean_absolute_error: 0.0616 - val_acc: 0.0000e+00\n",
      "Epoch 9/20\n",
      "100/100 [==============================] - 2648s 26s/step - loss: 0.0059 - mean_absolute_error: 0.0594 - acc: 2.4752e-05 - val_loss: 0.0056 - val_mean_absolute_error: 0.0594 - val_acc: 0.0000e+00\n",
      "Wall time: 14h 26min 33s\n"
     ]
    },
    {
     "data": {
      "text/plain": [
       "<keras.callbacks.History at 0x1cb61014ba8>"
      ]
     },
     "execution_count": 78,
     "metadata": {},
     "output_type": "execute_result"
    }
   ],
   "source": [
    "%%time\n",
    "model.fit_generator(generator=gen_batches,\n",
    "                    epochs=20,\n",
    "                    steps_per_epoch=100,\n",
    "                    validation_data=valid_data,\n",
    "                    callbacks=callbacks)"
   ]
  },
  {
   "cell_type": "markdown",
   "metadata": {},
   "source": [
    "To load the model weights from a trained model, select the appropriate H5 file."
   ]
  },
  {
   "cell_type": "code",
   "execution_count": 79,
   "metadata": {
    "scrolled": true
   },
   "outputs": [],
   "source": [
    "model.load_weights('model_temp_dew_hum.h5')"
   ]
  },
  {
   "cell_type": "markdown",
   "metadata": {},
   "source": [
    "Performance on test set, we run the test set in as one long batch"
   ]
  },
  {
   "cell_type": "code",
   "execution_count": 80,
   "metadata": {},
   "outputs": [
    {
     "name": "stdout",
     "output_type": "stream",
     "text": [
      "\r",
      "1/1 [==============================] - 1s 977ms/step\n"
     ]
    }
   ],
   "source": [
    "result = model.evaluate(x=np.expand_dims(x_test,axis=0), y=np.expand_dims(y_test, axis=0))\n"
   ]
  },
  {
   "cell_type": "code",
   "execution_count": 81,
   "metadata": {},
   "outputs": [
    {
     "name": "stdout",
     "output_type": "stream",
     "text": [
      "loss (test-set): [0.004640089347958565, 0.0535939522087574, 0.0]\n"
     ]
    }
   ],
   "source": [
    "print(\"loss (test-set):\", result)"
   ]
  },
  {
   "cell_type": "markdown",
   "metadata": {},
   "source": [
    "Now we are able to make predictions with our model.\n",
    "\n",
    "First we run the entire test set through the model and gather the MAPE score."
   ]
  },
  {
   "cell_type": "code",
   "execution_count": 4,
   "metadata": {},
   "outputs": [],
   "source": [
    "# MAPE\n",
    "def mean_absolute_percentage_error(y_true, y_pred): \n",
    "    return np.mean(np.abs((y_true - y_pred) / y_true)) * 100"
   ]
  },
  {
   "cell_type": "code",
   "execution_count": null,
   "metadata": {},
   "outputs": [],
   "source": [
    "x = np.expand_dims(x_test, axis=0)\n",
    "y_pred = model.predict(x)\n",
    "y_rescale = y_pred[0,:,0]\n",
    "y_rescale=np.expand_dims(y_rescale, axis=1)\n",
    "y_pred_rescaled = scale_y.inverse_transform(y_rescale)\n",
    "y_true = y_test_o\n",
    "mape_result = mean_absolute_percentage_error(y_true[200:], y_pred_rescaled[200:])\n",
    "mape_result"
   ]
  },
  {
   "cell_type": "markdown",
   "metadata": {},
   "source": [
    "Plot the prediction results over the entire test set."
   ]
  },
  {
   "cell_type": "code",
   "execution_count": null,
   "metadata": {},
   "outputs": [],
   "source": [
    "#plot actual VS predicted\n",
    "plt.figure(figsize=(15,5))\n",
    "plt.plot(y_true, label='true')\n",
    "plt.plot(y_pred_rescaled, label='pred')\n",
    "plt.ylabel(\"Total Market Demand\")\n",
    "plt.legend()\n",
    "plt.show()"
   ]
  },
  {
   "cell_type": "markdown",
   "metadata": {},
   "source": [
    "Change the length of the test set sequence fed to the model for specific predictions.  For example, below we give the model two weeks worth of input data and plot the last 24 data points, that is, we are making a day ahead load forcast for October 2nd, 2017."
   ]
  },
  {
   "cell_type": "code",
   "execution_count": 6,
   "metadata": {},
   "outputs": [],
   "source": [
    "# make prediction\n",
    "x = np.expand_dims(x_test[6100:6700], axis=0)\n",
    "y_pred = model.predict(x)\n",
    "y_rescale = y_pred[0,:,0]\n",
    "y_rescale=np.expand_dims(y_rescale, axis=1)\n",
    "y_pred_rescaled = scale_y.inverse_transform(y_rescale)\n",
    "y_true = y_test_o[6100:6700]"
   ]
  },
  {
   "cell_type": "code",
   "execution_count": 7,
   "metadata": {},
   "outputs": [],
   "source": [
    "# plot result\n",
    "#plot actual VS predicted\n",
    "plt.figure(figsize=(15,5))\n",
    "plt.plot(y_true[467:491], label='true')\n",
    "plt.plot(y_pred_rescaled[467:491], label='pred')\n",
    "plt.ylabel(\"Total Market Demand\")\n",
    "plt.legend()\n",
    "plt.show()"
   ]
  },
  {
   "cell_type": "code",
   "execution_count": null,
   "metadata": {},
   "outputs": [],
   "source": [
    "# calculate MAPE\n",
    "mape_result = mean_absolute_percentage_error(y_true[467:491], y_pred_rescaled[467:491])\n",
    "mape_result"
   ]
  }
 ],
 "metadata": {
  "kernelspec": {
   "display_name": "Python 3",
   "language": "python",
   "name": "python3"
  },
  "language_info": {
   "codemirror_mode": {
    "name": "ipython",
    "version": 3
   },
   "file_extension": ".py",
   "mimetype": "text/x-python",
   "name": "python",
   "nbconvert_exporter": "python",
   "pygments_lexer": "ipython3",
   "version": "3.6.5"
  }
 },
 "nbformat": 4,
 "nbformat_minor": 2
}
